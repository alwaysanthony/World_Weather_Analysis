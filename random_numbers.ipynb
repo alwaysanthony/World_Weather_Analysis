{
 "cells": [
  {
   "cell_type": "code",
   "execution_count": 7,
   "id": "c45f8aa6",
   "metadata": {},
   "outputs": [],
   "source": [
    "#import random\n",
    "import random\n",
    "\n",
    "# Import the NumPy module.\n",
    "import numpy as np"
   ]
  },
  {
   "cell_type": "code",
   "execution_count": 4,
   "id": "4a4c22e5",
   "metadata": {},
   "outputs": [],
   "source": [
    "x = 1\n",
    "latitudes = []\n",
    "while x < 11:\n",
    "    random_lat = random.randint(-90, 89) + random.random()\n",
    "    latitudes.append(random_lat)\n",
    "    x += 1"
   ]
  },
  {
   "cell_type": "code",
   "execution_count": 5,
   "id": "07ca7622",
   "metadata": {},
   "outputs": [
    {
     "data": {
      "text/plain": [
       "[9.496253348504903,\n",
       " -38.070581191207665,\n",
       " -40.29931584758903,\n",
       " 66.75061818674969,\n",
       " -9.663440443907827,\n",
       " 42.197469398584694,\n",
       " 44.03238062925266,\n",
       " -80.58230356946932,\n",
       " -84.15850086474579,\n",
       " -44.64439009023867]"
      ]
     },
     "execution_count": 5,
     "metadata": {},
     "output_type": "execute_result"
    }
   ],
   "source": [
    "latitudes"
   ]
  },
  {
   "cell_type": "code",
   "execution_count": 8,
   "id": "d614154e",
   "metadata": {},
   "outputs": [
    {
     "data": {
      "text/plain": [
       "-68.6253703935348"
      ]
     },
     "execution_count": 8,
     "metadata": {},
     "output_type": "execute_result"
    }
   ],
   "source": [
    "np.random.uniform(-90.000, 90.000)"
   ]
  },
  {
   "cell_type": "code",
   "execution_count": 9,
   "id": "e2f4148c",
   "metadata": {},
   "outputs": [
    {
     "data": {
      "text/plain": [
       "array([  3.90711069, -86.69048115,  59.74122429,  12.3036853 ,\n",
       "       -54.34750879,  33.73510507,  26.73364263, -81.14616803,\n",
       "        54.93332529,  18.43155619, -47.12963353, -48.31519413,\n",
       "        61.93344498, -88.87541203,  69.44316283,  68.25923895,\n",
       "        60.42655576, -37.94294881,  56.92980081, -35.90612979,\n",
       "       -78.7402904 ,  25.33994471, -34.35583474, -89.95606246,\n",
       "       -73.80677823,  11.51546533,  54.40671236,  55.34276042,\n",
       "        12.43149724, -60.09040914,  36.38648037,  74.50277203,\n",
       "       -19.60858994, -32.7654558 ,  11.94935584,  56.07356003,\n",
       "        75.01250707, -35.14956816,  77.20805061,  81.8471116 ,\n",
       "       -66.16587619,  -9.27810784, -34.30707979,  59.8052957 ,\n",
       "       -44.44500469,  74.31398301,  -6.80369192,  57.6001335 ,\n",
       "        24.44113533,  28.11792511])"
      ]
     },
     "execution_count": 9,
     "metadata": {},
     "output_type": "execute_result"
    }
   ],
   "source": [
    "np.random.uniform(-90.000, 90.000, size=50)"
   ]
  },
  {
   "cell_type": "code",
   "execution_count": 12,
   "id": "f70de913",
   "metadata": {},
   "outputs": [],
   "source": [
    "# Import timeit.\n",
    "import timeit"
   ]
  },
  {
   "cell_type": "code",
   "execution_count": 13,
   "id": "12984de9",
   "metadata": {},
   "outputs": [
    {
     "name": "stdout",
     "output_type": "stream",
     "text": [
      "15 µs ± 808 ns per loop (mean ± std. dev. of 7 runs, 100000 loops each)\n"
     ]
    }
   ],
   "source": [
    "%timeit np.random.uniform(-90.000, 90.000, size=1500)"
   ]
  },
  {
   "cell_type": "code",
   "execution_count": 14,
   "id": "db85db1c",
   "metadata": {},
   "outputs": [
    {
     "name": "stdout",
     "output_type": "stream",
     "text": [
      "1.55 ms ± 58.7 µs per loop (mean ± std. dev. of 7 runs, 1000 loops each)\n"
     ]
    }
   ],
   "source": [
    "def latitudes(size):\n",
    "    latitudes = []\n",
    "    x = 0\n",
    "    while x < (size):\n",
    "        random_lat = random.randint(-90, 90) + random.random()\n",
    "        latitudes.append(random_lat)\n",
    "        x += 1\n",
    "    return latitudes\n",
    "# Call the function with 1500.\n",
    "%timeit latitudes(1500)"
   ]
  },
  {
   "cell_type": "code",
   "execution_count": null,
   "id": "e4ea4ef0",
   "metadata": {},
   "outputs": [],
   "source": []
  }
 ],
 "metadata": {
  "kernelspec": {
   "display_name": "PythonData",
   "language": "python",
   "name": "pythondata"
  },
  "language_info": {
   "codemirror_mode": {
    "name": "ipython",
    "version": 3
   },
   "file_extension": ".py",
   "mimetype": "text/x-python",
   "name": "python",
   "nbconvert_exporter": "python",
   "pygments_lexer": "ipython3",
   "version": "3.9.7"
  }
 },
 "nbformat": 4,
 "nbformat_minor": 5
}
